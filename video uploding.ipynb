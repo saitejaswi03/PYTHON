{
 "cells": [
  {
   "cell_type": "markdown",
   "metadata": {},
   "source": [
    "# Youtube video downlaoder"
   ]
  },
  {
   "cell_type": "code",
   "execution_count": 10,
   "metadata": {},
   "outputs": [
    {
     "name": "stderr",
     "output_type": "stream",
     "text": [
      "Exception in Tkinter callback\n",
      "Traceback (most recent call last):\n",
      "  File \"C:\\ProgramData\\Anaconda3\\lib\\tkinter\\__init__.py\", line 1705, in __call__\n",
      "    return self.func(*args)\n",
      "  File \"<ipython-input-10-ae16645dd684>\", line 11, in youtube\n",
      "    ytvideo=YouTube(a).streams.filter(progressive=True,file_extension=\"mp4\").order_by('resolution').desc().first()\n",
      "  File \"C:\\ProgramData\\Anaconda3\\lib\\site-packages\\pytube\\__main__.py\", line 88, in __init__\n",
      "    self.video_id = extract.video_id(url)\n",
      "  File \"C:\\ProgramData\\Anaconda3\\lib\\site-packages\\pytube\\extract.py\", line 116, in video_id\n",
      "    return regex_search(r\"(?:v=|\\/)([0-9A-Za-z_-]{11}).*\", url, group=1)\n",
      "  File \"C:\\ProgramData\\Anaconda3\\lib\\site-packages\\pytube\\helpers.py\", line 40, in regex_search\n",
      "    raise RegexMatchError(caller=\"regex_search\", pattern=pattern)\n",
      "pytube.exceptions.RegexMatchError: regex_search: could not find match for (?:v=|\\/)([0-9A-Za-z_-]{11}).*\n",
      "Exception in Tkinter callback\n",
      "Traceback (most recent call last):\n",
      "  File \"C:\\ProgramData\\Anaconda3\\lib\\tkinter\\__init__.py\", line 1705, in __call__\n",
      "    return self.func(*args)\n",
      "  File \"<ipython-input-10-ae16645dd684>\", line 11, in youtube\n",
      "    ytvideo=YouTube(a).streams.filter(progressive=True,file_extension=\"mp4\").order_by('resolution').desc().first()\n",
      "  File \"C:\\ProgramData\\Anaconda3\\lib\\site-packages\\pytube\\__main__.py\", line 88, in __init__\n",
      "    self.video_id = extract.video_id(url)\n",
      "  File \"C:\\ProgramData\\Anaconda3\\lib\\site-packages\\pytube\\extract.py\", line 116, in video_id\n",
      "    return regex_search(r\"(?:v=|\\/)([0-9A-Za-z_-]{11}).*\", url, group=1)\n",
      "  File \"C:\\ProgramData\\Anaconda3\\lib\\site-packages\\pytube\\helpers.py\", line 40, in regex_search\n",
      "    raise RegexMatchError(caller=\"regex_search\", pattern=pattern)\n",
      "pytube.exceptions.RegexMatchError: regex_search: could not find match for (?:v=|\\/)([0-9A-Za-z_-]{11}).*\n"
     ]
    }
   ],
   "source": [
    "from pytube import YouTube\n",
    "from tkinter import *\n",
    "\n",
    "root = Tk()\n",
    "\n",
    "root.geometry(\"300x400\")\n",
    "root.title(\"YOUTUBE video download\")\n",
    "\n",
    "def youtube():\n",
    "    a=var.get() #https://www.youtube.com/watch?v=6igvHGsoaQI\n",
    "    ytvideo=YouTube(a).streams.filter(progressive=True,file_extension=\"mp4\").order_by('resolution').desc().first()\n",
    "    ytvideo.download(r\"C:\\movies\")\n",
    "    print(\"Entry box\",a)\n",
    "\n",
    "l1=Label(root,text = \"YouTube Video Link\",fg=\"Red\",font=(\"bold\",20))\n",
    "l1.place(x=30,y=20)\n",
    "\n",
    "var = StringVar()\n",
    "e1=Entry(root,textvariable=var,width=60)\n",
    "e1.place(x=40,y=80)\n",
    "\n",
    "b1 = Button(root,text = \"Download\",command=youtube,bg = \"green\",width =20,fg = \"white\" )\n",
    "b1.place(x=80,y=120)\n",
    "\n",
    "root.mainloop()"
   ]
  }
 ],
 "metadata": {
  "kernelspec": {
   "display_name": "Python 3",
   "language": "python",
   "name": "python3"
  },
  "language_info": {
   "codemirror_mode": {
    "name": "ipython",
    "version": 3
   },
   "file_extension": ".py",
   "mimetype": "text/x-python",
   "name": "python",
   "nbconvert_exporter": "python",
   "pygments_lexer": "ipython3",
   "version": "3.7.6"
  }
 },
 "nbformat": 4,
 "nbformat_minor": 4
}
