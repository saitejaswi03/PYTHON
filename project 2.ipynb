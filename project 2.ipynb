{
 "cells": [
  {
   "cell_type": "markdown",
   "metadata": {},
   "source": [
    "# Project 2"
   ]
  },
  {
   "cell_type": "code",
   "execution_count": 5,
   "metadata": {},
   "outputs": [
    {
     "name": "stdout",
     "output_type": "stream",
     "text": [
      "Requirement already satisfied: emails in c:\\programdata\\anaconda3\\lib\\site-packages (0.6)\n",
      "Requirement already satisfied: requests in c:\\programdata\\anaconda3\\lib\\site-packages (from emails) (2.22.0)\n",
      "Requirement already satisfied: cssutils in c:\\programdata\\anaconda3\\lib\\site-packages (from emails) (1.0.2)\n",
      "Requirement already satisfied: chardet in c:\\programdata\\anaconda3\\lib\\site-packages (from emails) (3.0.4)\n",
      "Requirement already satisfied: python-dateutil in c:\\programdata\\anaconda3\\lib\\site-packages (from emails) (2.8.1)\n",
      "Requirement already satisfied: premailer in c:\\programdata\\anaconda3\\lib\\site-packages (from emails) (3.7.0)\n",
      "Requirement already satisfied: lxml in c:\\programdata\\anaconda3\\lib\\site-packages (from emails) (4.5.0)\n",
      "Requirement already satisfied: idna<2.9,>=2.5 in c:\\programdata\\anaconda3\\lib\\site-packages (from requests->emails) (2.8)\n",
      "Requirement already satisfied: certifi>=2017.4.17 in c:\\programdata\\anaconda3\\lib\\site-packages (from requests->emails) (2019.11.28)\n",
      "Requirement already satisfied: urllib3!=1.25.0,!=1.25.1,<1.26,>=1.21.1 in c:\\programdata\\anaconda3\\lib\\site-packages (from requests->emails) (1.25.8)\n",
      "Requirement already satisfied: six>=1.5 in c:\\programdata\\anaconda3\\lib\\site-packages (from python-dateutil->emails) (1.14.0)\n",
      "Requirement already satisfied: cachetools in c:\\programdata\\anaconda3\\lib\\site-packages (from premailer->emails) (4.2.0)\n",
      "Requirement already satisfied: cssselect in c:\\programdata\\anaconda3\\lib\\site-packages (from premailer->emails) (1.1.0)\n"
     ]
    }
   ],
   "source": [
    "!pip install emails"
   ]
  },
  {
   "cell_type": "code",
   "execution_count": 6,
   "metadata": {},
   "outputs": [],
   "source": [
    "import emails\n",
    "message = emails.html(html=\"<p>Hi!<br>Here is your receipt...\",\n",
    "                          subject=\"Your receipt No. 567098123\",\n",
    "                          mail_from=('Some Store', 'store@somestore.com'))"
   ]
  },
  {
   "cell_type": "code",
   "execution_count": 33,
   "metadata": {
    "scrolled": true
   },
   "outputs": [],
   "source": [
    "mail_via_python=message.send(to='pordodarzo@nedoz.com', smtp={'host': 'pordodarzo@nedoz.com', 'timeout': 5,'port':587,\n",
    "                                                   'user':'apkataru2003@gmail.com',\n",
    "                                                   'password':'priya@2003',\n",
    "                                                   'tls':True})"
   ]
  },
  {
   "cell_type": "code",
   "execution_count": 40,
   "metadata": {},
   "outputs": [
    {
     "data": {
      "text/plain": [
       "<emails.backend.SMTPResponse status_code=None status_text=None>"
      ]
     },
     "execution_count": 40,
     "metadata": {},
     "output_type": "execute_result"
    }
   ],
   "source": [
    "mail_via_python."
   ]
  },
  {
   "cell_type": "code",
   "execution_count": null,
   "metadata": {},
   "outputs": [],
   "source": []
  }
 ],
 "metadata": {
  "kernelspec": {
   "display_name": "Python 3",
   "language": "python",
   "name": "python3"
  },
  "language_info": {
   "codemirror_mode": {
    "name": "ipython",
    "version": 3
   },
   "file_extension": ".py",
   "mimetype": "text/x-python",
   "name": "python",
   "nbconvert_exporter": "python",
   "pygments_lexer": "ipython3",
   "version": "3.7.6"
  }
 },
 "nbformat": 4,
 "nbformat_minor": 4
}
